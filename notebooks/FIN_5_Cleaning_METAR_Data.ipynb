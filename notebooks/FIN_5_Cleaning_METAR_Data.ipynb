{
 "cells": [
  {
   "cell_type": "markdown",
   "metadata": {},
   "source": [
    "# METAR Data Cleaning"
   ]
  },
  {
   "cell_type": "markdown",
   "metadata": {},
   "source": [
    "### Step 0: Importing **Libraries**"
   ]
  },
  {
   "cell_type": "markdown",
   "metadata": {},
   "source": [
    "Including our own METAR cleaning module, called 'metar_cleaning'."
   ]
  },
  {
   "cell_type": "code",
   "execution_count": 1,
   "metadata": {},
   "outputs": [],
   "source": [
    "import pandas as pd\n",
    "import os\n",
    "from metar_cleaning import metar_cleaning"
   ]
  },
  {
   "cell_type": "markdown",
   "metadata": {},
   "source": [
    "### Step 1: Importing **METAR Data**"
   ]
  },
  {
   "cell_type": "markdown",
   "metadata": {},
   "source": [
    "Let's import the METAR Data that we pulled from AVWX API.\n",
    "\n",
    "Example file name: ```METAR_9_2024.csv```"
   ]
  },
  {
   "cell_type": "code",
   "execution_count": null,
   "metadata": {},
   "outputs": [],
   "source": [
    "# Define the directory containing the CSV files\n",
    "directory = \"path/to/csv/directory\"\n",
    "\n",
    "# Dictionary to store DataFrames\n",
    "dataframes = {}\n",
    "\n",
    "# Loop through all CSV files in the directory\n",
    "for filename in os.listdir(directory):\n",
    "    if filename.endswith(\".csv\"):  # Ensure it's a CSV file\n",
    "        file_path = os.path.join(directory, filename)\n",
    "        \n",
    "        # Generate a valid Python variable name (remove \".csv\" and replace invalid characters)\n",
    "        df_name = filename[:-4]  # Remove .csv extension\n",
    "        df_name = df_name.replace(\" \", \"_\").replace(\"-\", \"_\")  # Replace spaces and dashes with underscores\n",
    "        \n",
    "        # Read the CSV file into a DataFrame\n",
    "        dataframes[df_name] = pd.read_csv(file_path)\n",
    "        \n",
    "        print(f\"Loaded {filename} into DataFrame: {df_name}\")\n",
    "\n",
    "# Display the names of the loaded DataFrames\n",
    "print(\"\\nLoaded DataFrames:\", list(dataframes.keys()))"
   ]
  },
  {
   "cell_type": "markdown",
   "metadata": {},
   "source": [
    "We concatenate all the METAR Data into one DataFrame:"
   ]
  },
  {
   "cell_type": "code",
   "execution_count": 5,
   "metadata": {},
   "outputs": [
    {
     "data": {
      "text/plain": [
       "2472515"
      ]
     },
     "execution_count": 5,
     "metadata": {},
     "output_type": "execute_result"
    }
   ],
   "source": [
    "# Concat METAR files\n",
    "metar_data_df = pd.concat(dataframes,axis=0,ignore_index=True)\n",
    "\n",
    "len(metar_data_df)"
   ]
  },
  {
   "cell_type": "markdown",
   "metadata": {},
   "source": [
    "### Step 2: **Cleaning** METAR Data"
   ]
  },
  {
   "cell_type": "markdown",
   "metadata": {},
   "source": [
    "Applying the metar_cleaning function to the METAR Data. Run the cell, sit back and relax."
   ]
  },
  {
   "cell_type": "code",
   "execution_count": 3,
   "metadata": {},
   "outputs": [
    {
     "name": "stderr",
     "output_type": "stream",
     "text": [
      "Cleaning METAR data...: 100%|██████████| 71342/71342 [00:00<00:00, 839646.99it/s]\n",
      "Cleaning METAR data...: 100%|██████████| 71342/71342 [00:00<00:00, 94244.46it/s] \n",
      "Cleaning METAR data...: 100%|██████████| 71342/71342 [00:08<00:00, 8701.40it/s] \n",
      "Cleaning METAR data...: 100%|██████████| 71340/71340 [00:00<00:00, 838980.76it/s]\n",
      "Cleaning METAR data...: 100%|██████████| 71340/71340 [00:00<00:00, 926531.97it/s]\n",
      "Cleaning METAR data...: 100%|██████████| 71340/71340 [00:01<00:00, 40469.66it/s]\n",
      "Cleaning METAR data...: 100%|██████████| 71340/71340 [00:00<00:00, 371558.06it/s]\n",
      "Cleaning METAR data...: 100%|██████████| 71340/71340 [00:01<00:00, 53615.78it/s]\n",
      "Cleaning METAR data...: 100%|██████████| 71340/71340 [00:00<00:00, 83827.37it/s]"
     ]
    },
    {
     "name": "stdout",
     "output_type": "stream",
     "text": [
      "Cleaning completed\n"
     ]
    },
    {
     "name": "stderr",
     "output_type": "stream",
     "text": [
      "\n"
     ]
    }
   ],
   "source": [
    "metar_cleaned_df = metar_cleaning(metar_data_df)"
   ]
  },
  {
   "cell_type": "markdown",
   "metadata": {},
   "source": [
    "Saving the cleaned METAR Data as a new .csv file."
   ]
  },
  {
   "cell_type": "code",
   "execution_count": null,
   "metadata": {},
   "outputs": [],
   "source": [
    "metar_cleaned_df.to_csv('path/to/csv/directory/metar_data_cleaned.csv', index=False)"
   ]
  }
 ],
 "metadata": {
  "kernelspec": {
   "display_name": "flight_lab",
   "language": "python",
   "name": "python3"
  },
  "language_info": {
   "codemirror_mode": {
    "name": "ipython",
    "version": 3
   },
   "file_extension": ".py",
   "mimetype": "text/x-python",
   "name": "python",
   "nbconvert_exporter": "python",
   "pygments_lexer": "ipython3",
   "version": "3.10.16"
  }
 },
 "nbformat": 4,
 "nbformat_minor": 2
}
