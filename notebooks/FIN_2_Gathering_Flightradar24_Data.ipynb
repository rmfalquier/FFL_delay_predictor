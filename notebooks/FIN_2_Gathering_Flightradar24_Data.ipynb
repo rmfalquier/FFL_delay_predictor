{
 "cells": [
  {
   "cell_type": "markdown",
   "metadata": {},
   "source": [
    "# **Flightradar24 API requests**"
   ]
  },
  {
   "cell_type": "markdown",
   "metadata": {},
   "source": [
    "#### Import necessary libraries"
   ]
  },
  {
   "cell_type": "code",
   "execution_count": null,
   "metadata": {},
   "outputs": [],
   "source": [
    "import os\n",
    "import yaml\n",
    "import pandas as pd\n",
    "import requests\n",
    "import json\n",
    "import time\n",
    "import random\n",
    "from datetime import datetime, timedelta"
   ]
  },
  {
   "cell_type": "markdown",
   "metadata": {},
   "source": [
    "#### Create a yaml file with your API keys"
   ]
  },
  {
   "cell_type": "markdown",
   "metadata": {},
   "source": [
    "To create a 'project_keys.yml' file with the necessary API keys, follow these steps:\n",
    "\n",
    "1. Open a text editor (e.g., Notepad, VSCode).\n",
    "2. Copy the following content and paste it into the editor:\n",
    "\n",
    "api_keys:\n",
    "\n",
    "  Flightradar24_flight-lab-01: YOUR_API_KEY\n",
    "\n",
    "3. Replace 'YOUR_API_KEY' with your actual API key.\n",
    "4. Save the file as 'project_keys.yml' in the desired directory.\n",
    "\n",
    "Example of the YAML structure:\n",
    "api_keys:\n",
    "  Flightradar24_flight-lab-01: YOUR_API_KEY"
   ]
  },
  {
   "cell_type": "markdown",
   "metadata": {},
   "source": [
    "#### Define function to load API keys from a YAML file"
   ]
  },
  {
   "cell_type": "code",
   "execution_count": 3,
   "metadata": {},
   "outputs": [],
   "source": [
    "def load_api_keys(yaml_path=None):\n",
    "    \"\"\"\n",
    "    Load API keys from a YAML file.\n",
    "\n",
    "    :param yaml_path: Path to the YAML file (optional). If not provided, it defaults to \"../project_keys.yml\".\n",
    "    :return: A dictionary containing the API keys found in the YAML file.\n",
    "    \"\"\"\n",
    "    # If no file path is provided, default to \"../project_keys.yml\"\n",
    "    if not yaml_path:\n",
    "        yaml_path = os.path.expanduser(\"../project_keys.yml\")\n",
    "    \n",
    "    try:\n",
    "        # Open and read the YAML file\n",
    "        with open(yaml_path, 'r') as file:\n",
    "            data = yaml.safe_load(file)  # Parse the YAML file\n",
    "            # Return the 'api_keys' section of the file, or an empty dictionary if not found\n",
    "            return data.get('api_keys', {})\n",
    "\n",
    "    except FileNotFoundError:\n",
    "        # Handle the case where the YAML file is not found\n",
    "        raise FileNotFoundError(f\"API keys file not found at: {yaml_path}\")\n",
    "\n",
    "    except yaml.YAMLError as e:\n",
    "        # Handle errors that occur while parsing the YAML file\n",
    "        raise Exception(f\"Error parsing YAML file: {e}\")\n"
   ]
  },
  {
   "cell_type": "markdown",
   "metadata": {},
   "source": [
    "#### Load route inputs which will be the inputs for the API request"
   ]
  },
  {
   "cell_type": "markdown",
   "metadata": {},
   "source": [
    "Your df_routes should point to the dataframe with the routes you are interested in."
   ]
  },
  {
   "cell_type": "code",
   "execution_count": null,
   "metadata": {},
   "outputs": [],
   "source": [
    "# Define a generic file path as an argument or variable\n",
    "file_path = 'yourcsv.csv'\n",
    "\n",
    "# Read the CSV file into a DataFrame\n",
    "df_routes = pd.read_csv(file_path)\n",
    "\n",
    "# Bring the routes in a format that is required as input for the Flightradar24 API request\n",
    "routes = []\n",
    "for index, row in df_routes.iterrows():\n",
    "    departure = row[0]  \n",
    "    arrival = row[1]   \n",
    "    formatted_route = f'{departure}-{arrival}'  \n",
    "    routes.append(formatted_route)"
   ]
  },
  {
   "cell_type": "markdown",
   "metadata": {},
   "source": [
    "#### Request flight positions for a specific time period and specific routes"
   ]
  },
  {
   "cell_type": "markdown",
   "metadata": {},
   "source": [
    "This code extracts flight position data from the Flightradar24 API for a given set of routes and dates, using an API token for authentication. It generates timestamps for each hour within the date range, sends requests to the API, and processes the response by storing the flight data in a DataFrame. The data is saved periodically to handle errors and is finally cleaned by removing unnecessary columns before saving the full dataset to a CSV file."
   ]
  },
  {
   "cell_type": "code",
   "execution_count": null,
   "metadata": {},
   "outputs": [],
   "source": [
    "import pandas as pd\n",
    "from datetime import datetime\n",
    "import random\n",
    "import time\n",
    "import requests\n",
    "import json\n",
    "\n",
    "\n",
    "def fetch_flight_data(start_date_str, end_date_str, routes):\n",
    "    \"\"\"\n",
    "    Fetch flight data from the Flightradar24 API for a specified date range and routes.\n",
    "\n",
    "    :param start_date_str: The start date as a string in 'YYYY-MM-DD' format.\n",
    "    :param end_date_str: The end date as a string in 'YYYY-MM-DD' format.\n",
    "    :param routes: List of routes to query for.\n",
    "    :return: DataFrame containing the flight position data.\n",
    "    \"\"\"\n",
    "    \n",
    "    # Load API keys\n",
    "    api_keys = load_api_keys()\n",
    "\n",
    "    # Get the specific key for Flightradar24\n",
    "    flightradar_key = api_keys.get('Flightradar24_flight-lab-01')\n",
    "\n",
    "    # Set the API token from the retrieved key\n",
    "    API_TOKEN = flightradar_key\n",
    "\n",
    "    # Define the base URL for the Flightradar24 API\n",
    "    url = \"https://fr24api.flightradar24.com/api/historic/flight-positions/full\"\n",
    "\n",
    "    # Set parameters for the API request\n",
    "    params = {\n",
    "        'categories': 'P',  # Filter for only passenger flights\n",
    "        'limit': 1  # Limit to one result per request\n",
    "    }\n",
    "\n",
    "    # Define the headers for the API request, including authorization\n",
    "    headers = {\n",
    "        'Accept': 'application/json',\n",
    "        'Accept-Version': 'v1',\n",
    "        'Authorization': f'Bearer {API_TOKEN}',\n",
    "    }\n",
    "\n",
    "    # Convert the string inputs into datetime objects\n",
    "    start_date = datetime.strptime(start_date_str, '%Y-%m-%d')\n",
    "    end_date = datetime.strptime(end_date_str, '%Y-%m-%d')\n",
    "    \n",
    "    # Generate a list of all dates within the range\n",
    "    dates = pd.date_range(start=start_date, end=end_date, freq='D')\n",
    "\n",
    "    # Initialize a variable for tracking the number of queries made\n",
    "    query_no = 0\n",
    "\n",
    "    # Create an empty dataframe to store flight position data\n",
    "    df_flight_position = pd.DataFrame()\n",
    "\n",
    "    # Loop through each route in the 'routes' list\n",
    "    for i, route in enumerate(routes): \n",
    "        # Set the route in the parameters for each API request\n",
    "        params['routes'] = route\n",
    "\n",
    "        # Loop through each date in the generated date range\n",
    "        for j, date in enumerate(dates): \n",
    "            timestamps = []  # Initialize an empty list to store timestamps for the current day\n",
    "            query_no += 1  # Increment the query number\n",
    "\n",
    "            # Loop through each hour of the day to generate timestamps\n",
    "            for hour in range(24):\n",
    "                timestamp = int(datetime(date.year, date.month, date.day, hour).timestamp())  # Generate timestamp for the specific hour\n",
    "                timestamps.append(timestamp)\n",
    "\n",
    "            # Randomize the order of timestamps to avoid overloading the API\n",
    "            random.shuffle(timestamps)\n",
    "\n",
    "            # Flag to indicate if data was successfully retrieved\n",
    "            data_found = False\n",
    "\n",
    "            # Loop through each randomized timestamp to make the API request\n",
    "            for timestamp in timestamps: \n",
    "                time.sleep(0.67)  # Add a short delay between requests to avoid hitting the API too quickly\n",
    "                params['timestamp'] = timestamp  # Set the timestamp in the request parameters\n",
    "\n",
    "                # Clear the output of the previous print statements in the notebook\n",
    "                clear_output(wait=True)\n",
    "\n",
    "                # Print progress information to keep track of the script's status\n",
    "                print(f\"Date range from {start_date_str} to {end_date_str}\")\n",
    "                print(f\"Query {query_no} of expected {len(routes)*len(dates)}\")\n",
    "                print(f\"Route {i+1} of {len(routes)} and Date {j+1} of {len(dates)}\")\n",
    "                print(f\"Requesting for route {route}, on date {date}, at timestamp {timestamp}\")\n",
    "\n",
    "                try:\n",
    "                    # Send the GET request to the Flightradar24 API\n",
    "                    response = requests.get(url, headers=headers, params=params)\n",
    "                    response.raise_for_status()  # Check for HTTP errors\n",
    "\n",
    "                    # Parse the response JSON data\n",
    "                    data = response.json()\n",
    "\n",
    "                    # Check if the response contains the expected flight data\n",
    "                    if isinstance(data, dict) and \"data\" in data and isinstance(data[\"data\"], list) and data[\"data\"]:\n",
    "                        print(json.dumps(data, indent=4))  # Optional debugging line to view raw data\n",
    "                        # Append the flight data to the dataframe\n",
    "                        df_flight_position = pd.concat([df_flight_position, pd.DataFrame(data[\"data\"])], ignore_index=True)\n",
    "                        data_found = True  # Set flag to stop further looping\n",
    "                        break  # Exit the loop if data was found\n",
    "\n",
    "                    else:\n",
    "                        print(f\"No data found for route {route} at timestamp {timestamp}\")\n",
    "                  \n",
    "                except requests.exceptions.HTTPError as http_err:\n",
    "                    # Handle HTTP errors (e.g., 404, 500)\n",
    "                    print(f\"HTTP error occurred: {http_err}\")\n",
    "                    time_of_error = int(time.time())  # Get the current timestamp\n",
    "                    save_path = \"../df_flight_position_\" + str(time_of_error) + \"_http_error_v2.csv\"\n",
    "                    df_flight_position.to_csv(save_path, index=False)  # Save progress in case of error\n",
    "\n",
    "                except Exception as err:\n",
    "                    # Handle other exceptions (e.g., network issues)\n",
    "                    print(f\"An error occurred: {err}\")\n",
    "                    time_of_error = int(time.time())  # Get the current timestamp\n",
    "                    save_path = \"../df_flight_position_\" + str(time_of_error) + \"_error_v2.csv\"\n",
    "                    df_flight_position.to_csv(save_path, index=False)  # Save progress in case of error\n",
    "\n",
    "            # Save progress after processing each route and date\n",
    "            time_of_progress_save = int(time.time())\n",
    "            save_path = \"../df_flight_position_\" + str(route) + \"_\" + str(time_of_progress_save) + \".csv\"\n",
    "            df_flight_position.to_csv(save_path, index=False)\n",
    "\n",
    "    # Final save of the flight position data after processing all routes and dates\n",
    "    time_of_run = int(time.time())  # Get the current timestamp\n",
    "    save_path = \"../df_flight_position_final_\" + str(time_of_run) + \".csv\"\n",
    "\n",
    "    # Drop unnecessary columns from the final dataset\n",
    "    df_flight_position = df_flight_position.drop(columns=[\"lat\", \"lon\", \"track\", \"alt\", \"gspeed\", \"squawk\", \"vspeed\"])\n",
    "\n",
    "    # Save the final dataset to a CSV file\n",
    "    df_flight_position.to_csv(save_path, index=False)\n",
    "\n",
    "    # Print a success message\n",
    "    print(\"GREAT SUCCESS!!!!!!!!!!\")\n",
    "\n",
    "# Example usage: User provides date range and routes\n",
    "fetch_flight_data('2024-01-01', '2024-12-31', routes)\n"
   ]
  }
 ],
 "metadata": {
  "kernelspec": {
   "display_name": "flight_lab",
   "language": "python",
   "name": "python3"
  },
  "language_info": {
   "codemirror_mode": {
    "name": "ipython",
    "version": 3
   },
   "file_extension": ".py",
   "mimetype": "text/x-python",
   "name": "python",
   "nbconvert_exporter": "python",
   "pygments_lexer": "ipython3",
   "version": "3.10.16"
  }
 },
 "nbformat": 4,
 "nbformat_minor": 2
}
