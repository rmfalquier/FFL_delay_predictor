{
 "cells": [
  {
   "cell_type": "markdown",
   "metadata": {},
   "source": [
    "# METAR Data from AVWX API"
   ]
  },
  {
   "cell_type": "markdown",
   "metadata": {},
   "source": [
    "### Step 0: Importing **Libraries**"
   ]
  },
  {
   "cell_type": "code",
   "execution_count": 2,
   "metadata": {},
   "outputs": [],
   "source": [
    "import pandas as pd\n",
    "import os\n",
    "import yaml\n",
    "import requests\n",
    "import json\n",
    "from datetime import datetime"
   ]
  },
  {
   "cell_type": "markdown",
   "metadata": {},
   "source": [
    "### Step 1: Loading **API Keys**"
   ]
  },
  {
   "cell_type": "code",
   "execution_count": 2,
   "metadata": {},
   "outputs": [],
   "source": [
    "def load_api_keys(yaml_path=None):\n",
    "    \"\"\"\n",
    "    Load API keys from a YAML file.\n",
    "\n",
    "    :param yaml_path: Path to the YAML file (optional).\n",
    "    :return: A dictionary with API keys.\n",
    "    \"\"\"\n",
    "    # Default path to the keys.yml file\n",
    "    if not yaml_path:\n",
    "        yaml_path = os.path.expanduser(\"../project_keys.yml\")\n",
    "    \n",
    "    try:\n",
    "        with open(yaml_path, 'r') as file:\n",
    "            data = yaml.safe_load(file)\n",
    "            return data.get('api_keys', {})\n",
    "    except FileNotFoundError:\n",
    "        raise FileNotFoundError(f\"API keys file not found at: {yaml_path}\")\n",
    "    except yaml.YAMLError as e:\n",
    "        raise Exception(f\"Error parsing YAML file: {e}\")"
   ]
  },
  {
   "cell_type": "markdown",
   "metadata": {},
   "source": [
    "Use the function to fetch API keys:"
   ]
  },
  {
   "cell_type": "code",
   "execution_count": 3,
   "metadata": {},
   "outputs": [],
   "source": [
    "# Load API keys\n",
    "api_keys = load_api_keys()\n",
    "\n",
    "# Access individual keys\n",
    "flightradar_sandbox_key = api_keys.get('Flightradar24_sandbox')\n",
    "flightradar_key = api_keys.get('Flightradar24_flight-lab-01')\n",
    "avwx_sandbox_key = api_keys.get('AVWX_dev')\n",
    "avwx_key = api_keys.get('AVWX_flight-lab-avwx-01')"
   ]
  },
  {
   "cell_type": "markdown",
   "metadata": {},
   "source": [
    "### Step 2: Importing and Preparing **FlightAware Data**"
   ]
  },
  {
   "cell_type": "markdown",
   "metadata": {},
   "source": [
    "First, let's load the FlightAware Data and drop unnecessary rows."
   ]
  },
  {
   "cell_type": "code",
   "execution_count": null,
   "metadata": {},
   "outputs": [],
   "source": [
    "# Loading csv file\n",
    "df_flightaware_by_callsign_1_month_sample = pd.read_csv('yourcsv.csv', low_memory=False)\n",
    "\n",
    "# Dropping 'position_only' rows. These carry no useful information for our analysis.\n",
    "position_only_indices = df_flightaware_by_callsign_1_month_sample[df_flightaware_by_callsign_1_month_sample['position_only']==True]['scheduled_on'].index\n",
    "df_drop_position_only = df_flightaware_by_callsign_1_month_sample.drop(index=position_only_indices)\n",
    "df_drop_position_only.reset_index(inplace=True, drop=True)\n",
    "\n",
    "# Dropping rows that have no 'scheduled_on' time.\n",
    "scheduled_on_nan = df_drop_position_only[df_drop_position_only['scheduled_on'].isna()].index\n",
    "df_flightaware = df_drop_position_only.drop(index=scheduled_on_nan)\n",
    "df_flightaware.reset_index(inplace=True, drop=True)\n",
    "\n",
    "df_flightaware.head()"
   ]
  },
  {
   "cell_type": "markdown",
   "metadata": {},
   "source": [
    "Next, we define a function which prepares the FlightAware DataFrame (df_flightaware) to be put into the METAR query."
   ]
  },
  {
   "cell_type": "code",
   "execution_count": 5,
   "metadata": {},
   "outputs": [],
   "source": [
    "def flightaware_to_metar_prep(df_flightaware_trial):\n",
    "    \"\"\" Prepare the FlightAware DataFrame for METAR data retrieval.\n",
    "\n",
    "    Args:\n",
    "        df_flightaware_trial (DataFrame): Flight data with airports and departure/arrival times.\n",
    "\n",
    "    Returns:\n",
    "        list: List of tuples with airport_date and latest time.\n",
    "    \"\"\"\n",
    "    df_copy = df_flightaware_trial.copy()\n",
    "\n",
    "    # Convert datetime columns in the copy\n",
    "    df_copy['actual_off'] = pd.to_datetime(df_copy['actual_off'], errors='coerce')\n",
    "    df_copy['estimated_off'] = pd.to_datetime(df_copy['estimated_off'], errors='coerce')  # Add estimated\n",
    "    df_copy['scheduled_off'] = pd.to_datetime(df_copy['scheduled_off'], errors='coerce')\n",
    "    df_copy['actual_on'] = pd.to_datetime(df_copy['actual_on'], errors='coerce')\n",
    "    df_copy['estimated_on'] = pd.to_datetime(df_copy['estimated_on'], errors='coerce')  # Add estimated\n",
    "    df_copy['scheduled_on'] = pd.to_datetime(df_copy['scheduled_on'], errors='coerce')\n",
    "\n",
    "    # Use actual -> estimated -> scheduled times\n",
    "    df_copy['departure_time'] = (\n",
    "        df_copy['actual_off']\n",
    "        .combine_first(df_copy['estimated_off'])\n",
    "        .combine_first(df_copy['scheduled_off'])\n",
    "    )\n",
    "    df_copy['arrival_time'] = (\n",
    "        df_copy['actual_on']\n",
    "        .combine_first(df_copy['estimated_on'])\n",
    "        .combine_first(df_copy['scheduled_on'])\n",
    "    )\n",
    "\n",
    "    # Create new columns for departure and arrival airport dates\n",
    "    df_copy['departure_airport_date'] = (\n",
    "        df_copy['origin.code_icao'] + ' ' +\n",
    "        df_copy['departure_time'].dt.date.astype(str)\n",
    "    )\n",
    "\n",
    "    df_copy['arrival_airport_date'] = (\n",
    "        df_copy['destination.code_icao'] + ' ' +\n",
    "        df_copy['arrival_time'].dt.date.astype(str)\n",
    "    )\n",
    "\n",
    "    # Rearrange columns\n",
    "    cols = [\n",
    "        'origin.code_icao', 'actual_off', 'estimated_off', 'scheduled_off',\n",
    "        'departure_airport_date', 'destination.code_icao', 'actual_on',\n",
    "        'estimated_on', 'scheduled_on', 'arrival_airport_date'\n",
    "    ]\n",
    "    df_metar_prep = df_copy[cols]\n",
    "\n",
    "    # Create a new DataFrame to hold the airport_date and times\n",
    "    airport_date_df = pd.concat([\n",
    "        df_copy[['departure_airport_date', 'departure_time']].rename(\n",
    "            columns={'departure_airport_date': 'airport_date', 'departure_time': 'time'}),\n",
    "        df_copy[['arrival_airport_date', 'arrival_time']].rename(\n",
    "            columns={'arrival_airport_date': 'airport_date', 'arrival_time': 'time'})\n",
    "    ])\n",
    "\n",
    "    # Drop rows where 'time' is NaN\n",
    "    airport_date_df = airport_date_df.dropna(subset=['time'])\n",
    "    \n",
    "    # Group by airport_date and find the latest time\n",
    "    latest_time_df = airport_date_df.groupby('airport_date')['time'].max().reset_index()\n",
    "\n",
    "    # Convert to list of tuples\n",
    "    airport_date_tuples = list(latest_time_df.itertuples(index=False, name=None))\n",
    "\n",
    "    return airport_date_tuples"
   ]
  },
  {
   "cell_type": "code",
   "execution_count": null,
   "metadata": {},
   "outputs": [],
   "source": [
    "# Creating a list of inputs for the AVWX query.\n",
    "airport_date_tuples = flightaware_to_metar_prep(df_flightaware)\n",
    "airport_date_tuples[0:5]"
   ]
  },
  {
   "cell_type": "markdown",
   "metadata": {},
   "source": [
    "There are two ways to query:\n",
    "\n",
    "**1:** Select an airport -> Query dates\n",
    "\n",
    "**2:** Select a date -> Query on airports"
   ]
  },
  {
   "cell_type": "markdown",
   "metadata": {},
   "source": [
    "**Option 1**\n",
    "\n",
    "Let's create a dictionary with airports as keys, and dates as values:"
   ]
  },
  {
   "cell_type": "code",
   "execution_count": 7,
   "metadata": {},
   "outputs": [],
   "source": [
    "airport_date_list = [x for (x,_) in airport_date_tuples]\n",
    "\n",
    "airport_date_dict = {}\n",
    "\n",
    "for item in airport_date_list:\n",
    "    # Each string has a station code and a date separated by space\n",
    "    station, date = item.split()\n",
    "    airport_date_dict.setdefault(station, []).append(date)\n",
    "\n",
    "# Print the first 5 items in the dictionary\n",
    "for airport, date in list(airport_date_dict.items())[:5]:\n",
    "    print(f'Airport: {airport}, Dates: {date}')"
   ]
  },
  {
   "cell_type": "markdown",
   "metadata": {},
   "source": [
    "**Option 2**\n",
    "\n",
    "Let's create a dictionary with dates as keys, and airports as values:"
   ]
  },
  {
   "cell_type": "code",
   "execution_count": null,
   "metadata": {},
   "outputs": [],
   "source": [
    "inverted_dict = {}\n",
    "\n",
    "for airport, date_list in airport_date_dict.items():\n",
    "    for date in date_list:\n",
    "        if date not in inverted_dict:\n",
    "            inverted_dict[date] = []\n",
    "        inverted_dict[date].append(airport)"
   ]
  },
  {
   "cell_type": "markdown",
   "metadata": {},
   "source": [
    "### Step 3: Querying **AVWX**"
   ]
  },
  {
   "cell_type": "markdown",
   "metadata": {},
   "source": [
    "Next, let's query AVWX API using the dictionary from **Option 2**. Every month of data pulled from the API will be stored in a separate .csv files (checkpoints)."
   ]
  },
  {
   "cell_type": "code",
   "execution_count": null,
   "metadata": {},
   "outputs": [],
   "source": [
    "API_TOKEN = avwx_key\n",
    "BASE_URL = 'https://history.avwx.rest/api/metar/'\n",
    "\n",
    "# DataFrame to accumulate results\n",
    "df = pd.DataFrame()\n",
    "\n",
    "# If you want chronological processing, sort the dates first\n",
    "sorted_dates = sorted(inverted_dict.keys(), reverse=True)\n",
    "\n",
    "# Track the current (month, year) as we iterate through dates\n",
    "current_month_year = None\n",
    "\n",
    "for d_idx, date in enumerate(sorted_dates):\n",
    "    try:\n",
    "        # Parse 'YYYY-MM-DD' into a datetime\n",
    "        dt = datetime.strptime(date, \"%Y-%m-%d\")\n",
    "        month_year = (dt.month, dt.year)\n",
    "    except ValueError:\n",
    "        print(f\"Skipping invalid date format: {date}\")\n",
    "        continue\n",
    "\n",
    "    # If it's the first iteration or the month-year changed,\n",
    "    # save the previous month's DataFrame and reset.\n",
    "    if current_month_year is None:\n",
    "        current_month_year = month_year\n",
    "    elif month_year != current_month_year:\n",
    "        old_month, old_year = current_month_year\n",
    "        # Save the accumulated data for the old month-year\n",
    "        if not df.empty:\n",
    "            df.to_csv(f\"METAR_{old_month}_{old_year}.csv\", index=False)\n",
    "        # Reset df for the new month\n",
    "        df = pd.DataFrame()\n",
    "        current_month_year = month_year\n",
    "\n",
    "    # Process each airport for this date\n",
    "    airports = inverted_dict[date]\n",
    "    for a_idx, airport in enumerate(airports):\n",
    "        try:\n",
    "            # Construct URL and headers\n",
    "            url = f\"{BASE_URL}{airport}?date={date}&remove=spoken,repr\"\n",
    "            headers = {'Authorization': API_TOKEN}\n",
    "            response = requests.get(url, headers=headers)\n",
    "            if response.status_code == 200:\n",
    "                data = response.json()\n",
    "                if 'results' in data:\n",
    "                    df = pd.concat(\n",
    "                        [df, pd.json_normalize(data['results'])],\n",
    "                        ignore_index=True\n",
    "                    )\n",
    "                else:\n",
    "                    print(f\"No 'results' key in API response for {url}\")\n",
    "            else:\n",
    "                print(f\"API Error {response.status_code} for URL: {url}\")\n",
    "                print(response.text)\n",
    "        except Exception as e:\n",
    "            print(f\"Error processing airport: {airport}, date: {date}: {e}\")\n",
    "        # Verbose progress\n",
    "        print(\n",
    "            f\"\\rPulling date: {date}. Dates: {d_idx} out of {len(sorted_dates)}. \"\n",
    "            f\"Airports: {a_idx} out of {len(airports)}.\",\n",
    "            end=\"\"\n",
    "        )\n",
    "\n",
    "# After the loop, save any remaining data for the last month-year\n",
    "if not df.empty and current_month_year is not None:\n",
    "   last_month, last_year = current_month_year\n",
    "   df.to_csv(f\"your_path_to_data_folder/METAR_{last_month}_{last_year}.csv\", index=False)"
   ]
  }
 ],
 "metadata": {
  "kernelspec": {
   "display_name": "flight_lab",
   "language": "python",
   "name": "python3"
  },
  "language_info": {
   "codemirror_mode": {
    "name": "ipython",
    "version": 3
   },
   "file_extension": ".py",
   "mimetype": "text/x-python",
   "name": "python",
   "nbconvert_exporter": "python",
   "pygments_lexer": "ipython3",
   "version": "3.10.16"
  }
 },
 "nbformat": 4,
 "nbformat_minor": 2
}
